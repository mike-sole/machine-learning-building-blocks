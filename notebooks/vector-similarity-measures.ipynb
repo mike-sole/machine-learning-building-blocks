{
 "cells": [
  {
   "cell_type": "markdown",
   "id": "b8a339dd-3aa0-4ad5-8df9-f06273db8087",
   "metadata": {},
   "source": [
    "# Vector Similarity Measures\n",
    "\n",
    "Vector similarity measures are a key Machine Learning building block. In this context, a vector encodes properties (features) of an entity, known as a **feature vector**. \n",
    "\n",
    "A $\\vec{a}$ vector represents a point (coordinate) in space along with a magnitude (length) and direction. These properties are illustrated in the following interactive graph where:\n",
    "* $\\vec{a}$ and $\\vec{b}$ are vectors\n",
    "  * $\\vec{a}$ and $\\vec{b}$ start at the origin and end at the arrow tip where the vector coordinate point can be found (the interactive chart allows the point to be dragged around)\n",
    "  * Vector magnitude (length) is shown by the intersecting labels\n",
    "* Angle between the directions of $\\vec{a}$ and $\\vec{b}$\n",
    "* Distance between $\\vec{a}$ and $\\vec{b}$ coordinates is shown by the dashed line\n",
    "\n",
    "<div id=\"html\" markdown=\"0\">\n",
    "\n",
    "  <div id=\"jxgbox-basic\" class=\"jxgbox-basic\" style=\"width: 100%; aspect-ratio : 1 / 1;\"></div>\n",
    "\n",
    "  <style>\n",
    "    {% include vector-similarity-measures/styles.css %}\n",
    "  </style>\n",
    "\n",
    "  <script>\n",
    "    {% include vector-similarity-measures/utils.js %}\n",
    "\n",
    "    {% include vector-similarity-measures/basic.js %}\n",
    "\n",
    "    //new Chart(\"jxgbox-basic\");\n",
    "  </script>\n",
    "  <br>\n",
    "</div>\n",
    "\n",
    "Vector similarity measures take one or more vector properties (coordinate, magnitude, direction) into consideration. Three common similarity measures are defined as:  \n",
    "\n",
    "* Distance between vector points (coordinates)\n",
    "  * Known as the **Euclidean distance** \n",
    "* Difference between vector directions\n",
    "  * Calculated using the cosine of the angle between two vectors. The cosine function returns the value of 1 when two vectors point in the same direction and -1 when two vectors point in the opposite direction. Therefore the cosine function maps both 0 - 180 degrees and 360 - 180 degrees to the range of 1 to -1. \n",
    "  * Known as the **Cosine similarity** \n",
    "* Difference between vector directions combined with magnitudes (lengths)\n",
    "  * Extends **Cosine similarity** by multiplying it with vector magnitudes (lengths)\n",
    "  * Known as the **Dot Product similarity**  \n",
    "\n",
    "Each vector similarity measure described above is illustrated by the following interactive chart:\n",
    "\n",
    "<div id=\"html\" markdown=\"0\">\n",
    "\n",
    "  <div id=\"jxgbox-basic-with-metrics\" class=\"jxgbox-basic-with-metrics\" style=\"width: 100%; aspect-ratio : 1 / 1;\"></div>\n",
    "\n",
    "  <script>\n",
    "    new Chart(\"jxgbox-basic-with-metrics\", SIMPLE_LBL_BASIC);\n",
    "  </script>\n",
    "  <br>\n",
    "</div>\n",
    "\n",
    "A previous blog post introduced the [weighted sum](https://mike-sole.github.io/machine-learning-building-blocks/2024/04/06/weighted-sum.html) (also known as the **dot product**). We have just seen the geometric representation of the **dot product** as opposed to the algebraic representation:\n",
    "* Geometric representation: \n",
    "  * length of vector $\\vec{a}$ * length of vector $\\vec{b}$ * cosine of angle between vector $\\vec{a}$ and $\\vec{b}$\n",
    "* Algebraic representation: \n",
    "\n",
    "Note that when vectors are normalised (their magnitude / length are scaled to equal 1), then the **dot product** represents the cosine between two vectors e.g. \n",
    "  * 1 * 1 * cosine of angle between vector $\\vec{a}$ and $\\vec{b}$"
   ]
  },
  {
   "cell_type": "markdown",
   "id": "877c4afa-baa9-472a-bbb9-8d19d017175c",
   "metadata": {},
   "source": [
    "# Interpretation\n",
    "\n",
    "Geometric interpretations of the three vector similarity measures will be presented in this section. \n",
    "\n",
    "Given feature vector A and B ... \n",
    "\n",
    "\n"
   ]
  },
  {
   "cell_type": "markdown",
   "id": "fc0a3baf-dd74-4385-b1e7-4d8c0dd3ed91",
   "metadata": {},
   "source": [
    "## Code"
   ]
  },
  {
   "cell_type": "markdown",
   "id": "ab7e44ed-db33-404c-ae5f-8bede2254eb5",
   "metadata": {},
   "source": [
    "Without using a library:"
   ]
  },
  {
   "cell_type": "code",
   "execution_count": 3,
   "id": "93023a10-25f9-43f5-8db3-86662e149fb2",
   "metadata": {},
   "outputs": [],
   "source": [
    "# helper functions\n",
    "\n",
    "\n"
   ]
  },
  {
   "cell_type": "markdown",
   "id": "fe811bd8-2735-42a1-90a7-940959661aee",
   "metadata": {},
   "source": [
    "Using the NumPy library:"
   ]
  },
  {
   "cell_type": "code",
   "execution_count": null,
   "id": "b59278a7-8bd7-4730-9beb-73d471b35318",
   "metadata": {},
   "outputs": [],
   "source": []
  },
  {
   "cell_type": "markdown",
   "id": "5e441f89-bd49-4dbe-b9b8-c909c402ff5b",
   "metadata": {},
   "source": [
    "## Maths Notations"
   ]
  },
  {
   "cell_type": "markdown",
   "id": "20687eee-d645-43fc-bdce-4b985c0ef108",
   "metadata": {},
   "source": []
  }
 ],
 "metadata": {
  "kernelspec": {
   "display_name": "Python 3 (ipykernel)",
   "language": "python",
   "name": "python3"
  },
  "language_info": {
   "codemirror_mode": {
    "name": "ipython",
    "version": 3
   },
   "file_extension": ".py",
   "mimetype": "text/x-python",
   "name": "python",
   "nbconvert_exporter": "python",
   "pygments_lexer": "ipython3",
   "version": "3.9.6"
  }
 },
 "nbformat": 4,
 "nbformat_minor": 5
}
