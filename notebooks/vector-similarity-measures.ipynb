{
 "cells": [
  {
   "cell_type": "markdown",
   "id": "b8a339dd-3aa0-4ad5-8df9-f06273db8087",
   "metadata": {},
   "source": [
    "# Vector Similarity Measures\n",
    "\n",
    "Vector similarity measures are a key Machine Learning building block. In this context, a vector encodes properties (features) of an entity, known as a **feature vector**. \n",
    "\n",
    "A vector represents a point (coordinate) in space. As a result, a vector has both **magnitude (length)** and **direction**  properties. These properties are illustrated in the following interactive graph for two vectors along with intuitive measures between the vectors:\n",
    "* $\\vec{a}$ and $\\vec{b}$ are vectors\n",
    "  * $\\vec{a}$ and $\\vec{b}$ both start at the origin and end at the arrow tip where the vector coordinate point can be found (the interactive chart allows the points to be dragged around)\n",
    "  * Vector magnitude (length) is shown by the intersecting labels\n",
    "* Intuitive measures between $\\vec{a}$ and $\\vec{b}$\n",
    "  * Distance between $\\vec{a}$ and $\\vec{b}$ coordinates is shown by the dashed line\n",
    "  * Angle between the directions of $\\vec{a}$ and $\\vec{b}$\n",
    "\n",
    "\n",
    "<div id=\"html\" markdown=\"0\">\n",
    "\n",
    "  <div id=\"jxgbox-basic\" class=\"jxgbox-basic\" style=\"width: 100%; aspect-ratio : 1 / 1;\"></div>\n",
    "\n",
    "  <style>\n",
    "    {% include vector-similarity-measures/styles.css %}\n",
    "  </style>\n",
    "\n",
    "  <script>\n",
    "    {% include vector-similarity-measures/utils.js %}\n",
    "\n",
    "    {% include vector-similarity-measures/similarity_measure_comparison_charts.js %}\n",
    "\n",
    "    new Chart(\"jxgbox-basic\");\n",
    "  </script>\n",
    "  <br>\n",
    "</div>\n",
    "\n",
    "Vector similarity measures take one or more vector properties into consideration. Three common similarity measures are defined as:  \n",
    "\n",
    "* Distance between vector points (coordinates)\n",
    "  * Known as the **Euclidean distance** \n",
    "* Difference between vector directions\n",
    "  * Known as the **cosine similarity** \n",
    "  * Calculated using the cosine of the angle between two vectors. The cosine function returns the value of 1 when two vectors point in the same direction and -1 when two vectors point in the opposite direction. The following graph visualises this function:\n",
    "\n",
    "<div id=\"html\" markdown=\"0\">\n",
    "\n",
    "  <div id=\"cosineGraph\" class=\"cosineGraph\" style=\"margin-left: auto;\n",
    "  margin-right: auto; width: 50%; aspect-ratio : 1 / 1;\"></div>\n",
    "  \n",
    "  <script>\n",
    "\n",
    "    {% include vector-similarity-measures/unit_circle_charts.js %}\n",
    "\n",
    "    new AngleDegreesMetricsGraph('cosineGraph').withCosineSimilarityMeasure(false);\n",
    "  </script>\n",
    "  <br>\n",
    "</div>\n",
    "\n",
    "* Difference between vector directions combined with magnitudes (lengths)\n",
    "  * Known as the **dot product similarity**\n",
    "  * Extends **cosine similarity** by multiplying it with vector magnitudes (lengths)\n",
    "\n",
    "Each vector similarity measure described above is illustrated by the following interactive chart:\n",
    "\n",
    "<div id=\"html\" markdown=\"0\">\n",
    "\n",
    "  <div id=\"jxgbox-basic-with-metrics\" class=\"jxgbox-basic-with-metrics\" style=\"width: 100%; aspect-ratio : 1 / 1;\"></div>\n",
    "\n",
    "  <script>\n",
    "    new Chart(\"jxgbox-basic-with-metrics\", SIMPLE_LBL_BASIC);\n",
    "  </script>\n",
    "  <br>\n",
    "</div>\n",
    "\n",
    "A previous blog post introduced the [weighted sum](https://mike-sole.github.io/machine-learning-building-blocks/2024/04/06/weighted-sum.html) (also known as the **dot product**) using the algebraic representation of multiplying corresponding elements between vectors before adding them together. We have just seen the geometric representation of the **dot product** as opposed to the algebraic representation:\n",
    "* Algebraic representation: \n",
    "  * $\\vec{a} \\cdot \\vec{b}$ = $\\vec{a}_0 * \\vec{b}_0 + \\vec{a}_1 * \\vec{b}_1 + ... + \\vec{a}_n * \\vec{b}_n$\n",
    "* Geometric representation: \n",
    "  * $\\vec{a} \\cdot \\vec{b}$ = (length of vector $\\vec{a}$) * (length of vector $\\vec{b}$) * (cosine of angle between vector $\\vec{a}$ and $\\vec{b}$)\n",
    "\n",
    "The following interactive chart allows both dot product calculations to be inspected (drag the vector coordinates around):\n",
    "\n",
    "<div id=\"html\" markdown=\"0\">\n",
    "\n",
    "  <div id=\"jxgbox-basic-multi\" class=\"jxgbox-basic-multi\" style=\"width: 100%; aspect-ratio : 1 / 1;\"></div>\n",
    "\n",
    "  <script>\n",
    "    new Chart(\"jxgbox-basic-multi\", SIMPLE_LBL_BASIC_MULTI_DOT_PRODUCT_REPRESENTATIONS);\n",
    "  </script>\n",
    "  <br>\n",
    "</div>\n",
    "\n"
   ]
  },
  {
   "cell_type": "markdown",
   "id": "613641d3",
   "metadata": {},
   "source": [
    "\n",
    " When vectors are **normalised** - their magnitude (length) is scaled to equal 1 -  then the **dot product** represents the cosine between two vectors (resulting in the **cosine similarity** measure) e.g: \n",
    "  * **Dot product** = (length of vector $\\vec{a}$) * (length of vector $\\vec{b}$) * (cosine of angle between vector $\\vec{a}$ and $\\vec{b}$)\n",
    "  * **Cosine similarity** with normalised vectors = 1 * 1 * (cosine of angle between vector $\\vec{a}$ and $\\vec{b}$)\n",
    "\n",
    "The following interactive chart allows the cosine to be inspected between two normalised vectors:\n",
    "  * The dashed circle has a radius of 1, because normalised vectors have a magnitude (length) of 1\n",
    "  * Vector $\\vec{b}$ has a fixed position at coordinate $(1, 0)$,  vector $\\vec{a}$ can be dragged around the circle to see the corresponding cosine value between the two vectors\n",
    "\n",
    "<div id=\"html\" markdown=\"0\">\n",
    "\n",
    "  <div style=\"width: 100%; display: table;\">\n",
    "      <div style=\"display: table-row\">\n",
    "          <div style=\"width: 50%; display: table-cell;\"> \n",
    "            <div id=\"testUnitCircle\" class=\"testUnitCircle\" style=\"width: 100%; aspect-ratio : 1 / 1;\"></div>\n",
    "          </div>\n",
    "          <div style=\"width: 50% display: table-cell;\">\n",
    "            <div id=\"testMetrics\" class=\"testMetrics\" style=\"width: 100%; aspect-ratio : 1 / 1;\"></div>\n",
    "          </div>\n",
    "      </div>\n",
    "  </div>\n",
    "\n",
    "  <script>\n",
    "    new UnitCircleChart('test')\n",
    "          .withCosineSimilarityMeasure(false);\n",
    "  </script>\n",
    "  <br>\n",
    "</div>\n",
    "\n",
    "Subtracting the **cosine similarity** from 1 results in a distance measure (**cosine distance**) as shown by the following interactive chart:\n",
    "\n",
    "<div id=\"html\" markdown=\"0\">\n",
    "\n",
    "  <div style=\"width: 100%; display: table;\">\n",
    "      <div style=\"display: table-row\">\n",
    "          <div style=\"width: 50%; display: table-cell;\"> \n",
    "            <div id=\"cosineSimilarityInvertedUnitCircle\" class=\"cosineSimilarityInvertedUnitCircle\" style=\"width: 100%; aspect-ratio : 1 / 1;\"></div>\n",
    "          </div>\n",
    "          <div style=\"width: 50% display: table-cell;\">\n",
    "            <div id=\"cosineSimilarityInvertedMetrics\" class=\"cosineSimilarityInvertedMetrics\" style=\"width: 100%; aspect-ratio : 1 / 1;\"></div>\n",
    "          </div>\n",
    "      </div>\n",
    "  </div>\n",
    "\n",
    "  <script>\n",
    "    new UnitCircleChart('cosineSimilarityInverted')\n",
    "          .withCosineSimilarityMeasure(true);\n",
    "  </script>\n",
    "  <br>\n",
    "</div>\n",
    "\n",
    "The following chart allows us to compare the **cosine distance** against the **Euclidean distance** for **normalised vectors**. We can see that both increase and decrease together, although the relationship isn't linear, relative ordering between the two exists - the sorted order is consistent between the two. \n",
    "\n",
    "<div id=\"html\" markdown=\"0\">\n",
    "\n",
    "  <div style=\"width: 100%; display: table;\">\n",
    "      <div style=\"display: table-row\">\n",
    "          <div style=\"width: 50%; display: table-cell;\"> \n",
    "            <div id=\"cosineAndEuclideanUnitCircle\" class=\"cosineAndEuclideanUnitCircle\" style=\"width: 100%; aspect-ratio : 1 / 1;\"></div>\n",
    "          </div>\n",
    "          <div style=\"width: 50% display: table-cell;\">\n",
    "            <div id=\"cosineAndEuclideanMetrics\" class=\"cosineAndEuclideanMetrics\" style=\"width: 100%; aspect-ratio : 1 / 1;\"></div>\n",
    "          </div>\n",
    "      </div>\n",
    "  </div>\n",
    "\n",
    "  <script>\n",
    "    new UnitCircleChart('cosineAndEuclidean')\n",
    "          .withCosineSimilarityMeasure(true)\n",
    "          .withEuclideanDistanceMetric();\n",
    "  </script>\n",
    "  <br>\n",
    "</div>"
   ]
  },
  {
   "cell_type": "markdown",
   "id": "daf67819",
   "metadata": {},
   "source": [
    "# Interpretation"
   ]
  },
  {
   "cell_type": "code",
   "execution_count": 9,
   "id": "8a5868ad",
   "metadata": {
    "tags": [
     "hide"
    ]
   },
   "outputs": [],
   "source": [
    "import numpy as np\n",
    "from sklearn.metrics.pairwise import pairwise_distances\n",
    "from IPython.display import Markdown as md\n",
    "\n",
    "coordsA = [5, 1]\n",
    "coordsB = [9, 9]\n",
    "coordsC = [.5, 3.]\n",
    "\n",
    "inspection_points = [coordsA, coordsB, coordsC]\n",
    "\n",
    "normalised_inspectin_points = []\n",
    "for coord in [coordsA, coordsB, coordsC]:\n",
    "    v = np.array(coord)\n",
    "    normalised_inspectin_points.append(v / np.linalg.norm(v))\n",
    "\n",
    "def get_matrix_md_table(mat):\n",
    "    return f\"\"\"\n",
    "|           | Movie A | Movie B | Movie C |\n",
    "|-----------|--------:|--------:|--------:|\n",
    "| **Movie A**   | {mat[0][0]:.2f} | {mat[0][1]:.2f} | {mat[0][2]:.2f} |\n",
    "| **Movie B**   | {mat[1][0]:.2f} | {mat[1][1]:.2f} | {mat[1][2]:.2f} |\n",
    "| **Movie C**   | {mat[2][0]:.2f} | {mat[2][1]:.2f} | {mat[2][2]:.2f} |\n",
    "\"\"\"\n"
   ]
  },
  {
   "cell_type": "markdown",
   "id": "877c4afa-baa9-472a-bbb9-8d19d017175c",
   "metadata": {},
   "source": [
    "Continuing with the theme of movie recommendation examples from previous blog posts. Say that Movie A, B and C have the following **normalised** categorisations: \n",
    "- Movie A (action: 0.98, comedy: 0.20)\n",
    "- Movie B (action: 0.71, comedy: 0.71)\n",
    "- Movie C (action: 0.16, comedy: 0.99)\n",
    "\n",
    "Categorisation values are **normalised** for each movie. E.g. the categorisation vector for Movie A is (0.98, 0.20) which has a magnitude (length) of 1. The following chart visualises the movie vectors, where vectors for Movie A, B and C are $\\vec{a}$, $\\vec{b}$ and $\\vec{c}$ respectively. The dashed circle has a radius of 1, because normalised vectors have a magnitude (length) of 1.\n",
    "\n",
    "<div id=\"html\" markdown=\"0\">\n",
    "\n",
    "  <div id=\"jxgbox-interpretationUnitCircle\" class=\"jxgbox-interpretationUnitCircle\" style=\"width: 100%; aspect-ratio : 1 / 1;\"></div>\n",
    "\n",
    "  <script>\n",
    "\n",
    "    {% include vector-similarity-measures/interpretation_charts.js %}\n",
    "\n",
    "    const coordsA = [5, 1];\n",
    "    const coordsB = [9, 9];\n",
    "    const coordsC = [.5, 3.];\n",
    "\n",
    "    new InterpretationUnitCircle(\"jxgbox-interpretationUnitCircle\", coordsA, coordsB, coordsC);\n",
    "\n",
    "  </script>\n",
    "  <br>\n",
    "</div>\n",
    "\n",
    "As the movie vectors are **normalised**, we know that:\n",
    "  * **Dot product similarity** is equal to the **cosine similarity** \n",
    "  * **Euclidean distance** orders vectors by distance the same way as the **cosine distance** orders vectors by distance\n",
    "\n",
    "Similarity measures between each movie can be shown by a pairwise distance matrix. The following table shows a pairwise distance matrix using the **Euclidean distance**. E.g. the top left cell corresponds to the distance between Movie A and Movie A which is 0. Furthermore, the top right cell corresponds to the distance between Movie A and Movie C which is 1.14.  "
   ]
  },
  {
   "cell_type": "code",
   "execution_count": 10,
   "id": "268d6fa2",
   "metadata": {
    "tags": [
     "hide"
    ]
   },
   "outputs": [
    {
     "data": {
      "text/markdown": [
       "\n",
       "|           | Movie A | Movie B | Movie C |\n",
       "|-----------|--------:|--------:|--------:|\n",
       "| **Movie A**   | 0.00 | 0.58 | 1.14 |\n",
       "| **Movie B**   | 0.58 | 0.00 | 0.61 |\n",
       "| **Movie C**   | 1.14 | 0.61 | 0.00 |\n"
      ],
      "text/plain": [
       "<IPython.core.display.Markdown object>"
      ]
     },
     "execution_count": 10,
     "metadata": {},
     "output_type": "execute_result"
    }
   ],
   "source": [
    "pairwise_ed = pairwise_distances(normalised_inspectin_points, normalised_inspectin_points, metric='euclidean')\n",
    "\n",
    "md(get_matrix_md_table(pairwise_ed))"
   ]
  },
  {
   "cell_type": "markdown",
   "id": "62fb477e",
   "metadata": {},
   "source": [
    "A pairwise distance matrix using the **cosine distance** follows for comparison: "
   ]
  },
  {
   "cell_type": "code",
   "execution_count": 11,
   "id": "93c3d26e",
   "metadata": {
    "tags": [
     "hide"
    ]
   },
   "outputs": [
    {
     "data": {
      "text/markdown": [
       "\n",
       "|           | Movie A | Movie B | Movie C |\n",
       "|-----------|--------:|--------:|--------:|\n",
       "| **Movie A**   | 0.00 | 0.17 | 0.65 |\n",
       "| **Movie B**   | 0.17 | 0.00 | 0.19 |\n",
       "| **Movie C**   | 0.65 | 0.19 | 0.00 |\n"
      ],
      "text/plain": [
       "<IPython.core.display.Markdown object>"
      ]
     },
     "execution_count": 11,
     "metadata": {},
     "output_type": "execute_result"
    }
   ],
   "source": [
    "pairwise_cosine = pairwise_distances(normalised_inspectin_points, normalised_inspectin_points, metric='cosine')\n",
    "\n",
    "md(get_matrix_md_table(pairwise_cosine))"
   ]
  },
  {
   "cell_type": "markdown",
   "id": "19150d1b",
   "metadata": {},
   "source": [
    "From the above, the following statements are true when using either the **Euclidean distance** or **cosine distance**:\n",
    "  * Movies ordered by distance from Movie A = Movie B, Movie C\n",
    "  * Movies ordered by distance from Movie B = Movie A, Movie C\n",
    "  * Movies ordered by distance from Movie C = Movie B, Movie A\n",
    "\n",
    "More specifically for our movie recommendation example, we can say that if someone enjoyed Movie A, then the most similar movie to recommend is Movie B followed by Movie C. "
   ]
  },
  {
   "cell_type": "markdown",
   "id": "336d90d1",
   "metadata": {},
   "source": [
    "The rest of this interpretation section will explore a scenario where data is **not normalised**. Extending our movie recommendation scenario, say that the movie vector magnitude (length) represents a popularity score e.g. number of likes. The following graph shows Movie vectors which have varying popularity scores, where Movie B is the most popular and Movie C is the least popular with magnitudes (lengths) of 12.73 and 3.04 respectively:  "
   ]
  },
  {
   "cell_type": "markdown",
   "id": "d918294e",
   "metadata": {},
   "source": [
    "<div id=\"html\" markdown=\"0\">\n",
    "\n",
    "  <div id=\"jxgbox-interpretation\" class=\"jxgbox-interpretation\" style=\"width: 100%; aspect-ratio : 1 / 1;\"></div>\n",
    "  \n",
    "  <script>\n",
    "\n",
    "    new Interpretation(\"jxgbox-interpretation\", coordsA, coordsB, coordsC);\n",
    "\n",
    "  </script>\n",
    "  <br>\n",
    "</div>"
   ]
  },
  {
   "cell_type": "markdown",
   "id": "a1bf02dc",
   "metadata": {},
   "source": [
    "Pairwise similarity tables follow for the **Euclidean distance**, **cosine distance** and **dot product** similarity measures.\n",
    "\n",
    "Pairwise **Euclidean distance** between movie vectors:"
   ]
  },
  {
   "cell_type": "code",
   "execution_count": 12,
   "id": "19bfd22e",
   "metadata": {
    "tags": [
     "hide"
    ]
   },
   "outputs": [
    {
     "data": {
      "text/markdown": [
       "\n",
       "|           | Movie A | Movie B | Movie C |\n",
       "|-----------|--------:|--------:|--------:|\n",
       "| **Movie A**   | 0.00 | 8.94 | 4.92 |\n",
       "| **Movie B**   | 8.94 | 0.00 | 10.40 |\n",
       "| **Movie C**   | 4.92 | 10.40 | 0.00 |\n"
      ],
      "text/plain": [
       "<IPython.core.display.Markdown object>"
      ]
     },
     "execution_count": 12,
     "metadata": {},
     "output_type": "execute_result"
    }
   ],
   "source": [
    "pairwise_ed = pairwise_distances(inspection_points, inspection_points, metric='euclidean')\n",
    "\n",
    "md(get_matrix_md_table(pairwise_ed))\n",
    "\n"
   ]
  },
  {
   "cell_type": "markdown",
   "id": "15b8ab87",
   "metadata": {},
   "source": [
    "We can see that the **Euclidean distance** scores Movies with minimum combined difference across all factors as more similar E.g. movies ordered by straight line distance from Movie A = Movie C, Movie B. Movie C is less popular than Movie A, however the straight line distance between Movie A and B (8.94) is far greater than the straight line distance between A and C (4.92)\n",
    "\n",
    "Pairwise **cosine distance** between movie vectors:"
   ]
  },
  {
   "cell_type": "code",
   "execution_count": 13,
   "id": "80935b23",
   "metadata": {
    "tags": [
     "hide"
    ]
   },
   "outputs": [
    {
     "data": {
      "text/markdown": [
       "\n",
       "|           | Movie A | Movie B | Movie C |\n",
       "|-----------|--------:|--------:|--------:|\n",
       "| **Movie A**   | 0.00 | 0.17 | 0.65 |\n",
       "| **Movie B**   | 0.17 | 0.00 | 0.19 |\n",
       "| **Movie C**   | 0.65 | 0.19 | 0.00 |\n"
      ],
      "text/plain": [
       "<IPython.core.display.Markdown object>"
      ]
     },
     "execution_count": 13,
     "metadata": {},
     "output_type": "execute_result"
    }
   ],
   "source": [
    "\n",
    "pairwise_cosine = pairwise_distances(inspection_points, inspection_points, metric='cosine')\n",
    "\n",
    "md(get_matrix_md_table(pairwise_cosine))"
   ]
  },
  {
   "cell_type": "markdown",
   "id": "98ad6480",
   "metadata": {},
   "source": [
    "**Cosine distance** normalises vectors as part of its calculation. Therefore movie popularity information is removed and does not affect this similarity measure.\n",
    "\n",
    "Pairwise **dot product similarity** between movie vectors:"
   ]
  },
  {
   "cell_type": "code",
   "execution_count": 14,
   "id": "65746a37",
   "metadata": {
    "tags": [
     "hide"
    ]
   },
   "outputs": [
    {
     "data": {
      "text/markdown": [
       "\n",
       "|           | Movie A | Movie B | Movie C |\n",
       "|-----------|--------:|--------:|--------:|\n",
       "| **Movie A**   | 26.00 | 54.00 | 5.50 |\n",
       "| **Movie B**   | 54.00 | 162.00 | 31.50 |\n",
       "| **Movie C**   | 5.50 | 31.50 | 9.25 |\n"
      ],
      "text/plain": [
       "<IPython.core.display.Markdown object>"
      ]
     },
     "execution_count": 14,
     "metadata": {},
     "output_type": "execute_result"
    }
   ],
   "source": [
    "\n",
    "pairwise_dot = pairwise_distances(inspection_points, inspection_points, metric=np.dot)\n",
    "\n",
    "md(get_matrix_md_table(pairwise_dot))"
   ]
  },
  {
   "cell_type": "markdown",
   "id": "503f0367",
   "metadata": {},
   "source": [
    "With **dot product similarity**, a higher value represents a higher similarity. We can see that Movie B dominates similarity due to its high popularity value. E.g. the most similar movie to both Movie A and C is Movie B. \n",
    "\n",
    "As a summary, this section has interpreted vector similarity measures with respect to a simplistic movie recommendation scenario. First we worked through a **normalised** scenario and then expanded the scenario to a **non-normalised** scenario. We can see that selecting the right vector similarity measure is an important consideration. "
   ]
  },
  {
   "cell_type": "markdown",
   "id": "fc0a3baf-dd74-4385-b1e7-4d8c0dd3ed91",
   "metadata": {},
   "source": [
    "## Code"
   ]
  },
  {
   "cell_type": "markdown",
   "id": "ab7e44ed-db33-404c-ae5f-8bede2254eb5",
   "metadata": {},
   "source": [
    "Without using a library:"
   ]
  },
  {
   "cell_type": "code",
   "execution_count": 15,
   "id": "93023a10-25f9-43f5-8db3-86662e149fb2",
   "metadata": {},
   "outputs": [
    {
     "name": "stdout",
     "output_type": "stream",
     "text": [
      "Vector a = [3.5, 1.0]\n",
      "Vector b = [2.0, 4.0]\n",
      "\n",
      "Vector a magnitude (length) = 3.64\n",
      "Vector b magnitude (length) = 4.47\n",
      "\n",
      "Vector a normalised = [0.96, 0.27]\n",
      "Vector b normalised = [0.45, 0.89]\n",
      "\n",
      "Dot Product between vector a and b: 11.00\n",
      "Cosine Distance between vector a and b: 0.32\n",
      "Euclidean Distance between vector a and b: 3.35\n"
     ]
    }
   ],
   "source": [
    "import math\n",
    "\n",
    "def weighted_sum(array_1, array_2):\n",
    "    return sum([array_1[idx] * array_2[idx] for idx in range(len(array_1))])\n",
    "\n",
    "def magnitude(array):\n",
    "    return math.sqrt(sum([x * x for x in array]))\n",
    "\n",
    "def normalise(array):\n",
    "    vector_magnitude = magnitude(array)\n",
    "    return [x / vector_magnitude for x in array]\n",
    "\n",
    "def cosine(array_1, array_2):\n",
    "    return weighted_sum(normalise(array_1), normalise(array_2))\n",
    "\n",
    "def cosine_distance(array_1, array_2):\n",
    "    return 1 - cosine(array_1, array_2)\n",
    "\n",
    "def euclidean_distance(array_1, array_2):\n",
    "    diffs = [array_1[idx] - array_2[idx] for idx in range(len(array_1))]\n",
    "    diffs_squared = [diff * diff for diff in diffs]\n",
    "    return math.sqrt(sum(diffs_squared))\n",
    "\n",
    "\n",
    "vector_a = [3.5, 1.]\n",
    "vector_b = [2., 4.]\n",
    "\n",
    "print(f'Vector a = {vector_a}')\n",
    "print(f'Vector b = {vector_b}')\n",
    "\n",
    "# vector magnitudes (lengths)\n",
    "print(f'\\nVector a magnitude (length) = {magnitude(vector_a):.2f}')\n",
    "print(f'Vector b magnitude (length) = {magnitude(vector_b):.2f}')\n",
    "\n",
    "# normalised vectors\n",
    "print(f'\\nVector a normalised = {[round(x, 2) for x in normalise(vector_a)]}')\n",
    "print(f'Vector b normalised = {[round(x, 2) for x in normalise(vector_b)]}')\n",
    "\n",
    "# similarity measures\n",
    "print(f'\\nDot Product between vector a and b: {weighted_sum(vector_a, vector_b):.2f}')\n",
    "print(f'Cosine Distance between vector a and b: {cosine_distance(vector_a, vector_b):.2f}')\n",
    "print(f'Euclidean Distance between vector a and b: {euclidean_distance(vector_a, vector_b):.2f}')\n"
   ]
  },
  {
   "cell_type": "markdown",
   "id": "fe811bd8-2735-42a1-90a7-940959661aee",
   "metadata": {},
   "source": [
    "Using the NumPy and SciPy libraries:"
   ]
  },
  {
   "cell_type": "code",
   "execution_count": 16,
   "id": "b59278a7-8bd7-4730-9beb-73d471b35318",
   "metadata": {},
   "outputs": [
    {
     "name": "stdout",
     "output_type": "stream",
     "text": [
      "Vector a = [3.5 1. ]\n",
      "Vector b = [2. 4.]\n",
      "\n",
      "Vector a magnitude (length) = 3.64\n",
      "Vector b magnitude (length) = 4.47\n",
      "\n",
      "Vector a normalised = [0.96 0.27]\n",
      "Vector b normalised = [0.45 0.89]\n",
      "\n",
      "Dot Product between vector a and b: 11.00\n",
      "Cosine Distance between vector a and b: 0.32\n",
      "Euclidean Distance between vector a and b: 3.35\n"
     ]
    }
   ],
   "source": [
    "import numpy as np\n",
    "import scipy\n",
    "\n",
    "np.set_printoptions(precision=2)\n",
    "\n",
    "vector_a = np.array([3.5, 1.])\n",
    "vector_b = np.array([2., 4.])\n",
    "\n",
    "print(f'Vector a = {vector_a}')\n",
    "print(f'Vector b = {vector_b}')\n",
    "\n",
    "# vector magnitudes (lengths)\n",
    "print(f'\\nVector a magnitude (length) = {np.linalg.norm(vector_a):.2f}')\n",
    "print(f'Vector b magnitude (length) = {np.linalg.norm(vector_b):.2f}')\n",
    "\n",
    "# normalised vectors\n",
    "print(f'\\nVector a normalised = {vector_a / np.linalg.norm(vector_a)}')\n",
    "print(f'Vector b normalised = {vector_b / np.linalg.norm(vector_b)}')\n",
    "\n",
    "# similarity measures\n",
    "print(f'\\nDot Product between vector a and b: {np.dot(vector_a, vector_b):.2f}')\n",
    "print(f'Cosine Distance between vector a and b: {scipy.spatial.distance.cosine(vector_a, vector_b):.2f}')\n",
    "print(f'Euclidean Distance between vector a and b: {scipy.spatial.distance.euclidean(vector_a, vector_b):.2f}')\n"
   ]
  },
  {
   "cell_type": "markdown",
   "id": "5e441f89-bd49-4dbe-b9b8-c909c402ff5b",
   "metadata": {},
   "source": [
    "## Maths Notations"
   ]
  },
  {
   "cell_type": "markdown",
   "id": "20687eee-d645-43fc-bdce-4b985c0ef108",
   "metadata": {},
   "source": [
    "Vector similarity maths notations are defined in this section followed by an interactive chart. The following equations refer to two vectors, vector $\\vec{a}$ and $\\vec{b}$ which are limited to two dimensions. E.g. where $\\vec{a} = (5, 9)$, $\\vec{a}_x$ refers to the first dimension which has a value of 5 and $\\vec{a}_y$ refers to the second dimension which has a value of 9. \n",
    "\n",
    "Vector magnitude (length):\n",
    "\n",
    "$\\vert\\vert \\vec{a} \\vert\\vert = \\sqrt{\\vec{a}_x ^2 + \\vec{a}_y ^2 }$\n",
    "\n",
    "Euclidean distance:\n",
    "\n",
    "$ \\vert\\vert \\vec{a} - \\vec{b} \\vert\\vert = \\sqrt{(\\vec{a}_x - \\vec{b}_x)^2 + ( \\vec{a}_y - \\vec{b}_y)^2 }$\n",
    "\n",
    "Dot product similarity \n",
    "\n",
    "  * Algebraic representation: \n",
    "    * $\\vec{a} \\cdot \\vec{b} = \\vec{a}_x * \\vec{b}_x + \\vec{a}_y * \\vec{b}_y$\n",
    "  * Geometric representation: \n",
    "    * $\\vec{a} \\cdot \\vec{b} = \\vert\\vert \\vec{a} \\vert\\vert \\, \\vert\\vert \\vec{b} \\vert\\vert \\cos\\theta$\n",
    "\n",
    "Cosine similarity: \n",
    "\n",
    "$\\cos \\theta = \\dfrac{ \\vec{a} \\cdot \\vec{b}  }{  \\vert\\vert \\vec{a} \\vert\\vert \\, \\vert\\vert \\vec{b} \\vert\\vert }$\n",
    "\n",
    "The following interactive chart allows the equations to be dynamically inspected (drag the vector coordinates around):"
   ]
  },
  {
   "cell_type": "markdown",
   "metadata": {},
   "source": [
    "<div id=\"html\" markdown=\"0\">\n",
    "\n",
    "  <div id=\"jxgbox-maths-notation\" class=\"jxgbox-maths-notation\" style=\"width: 100%; aspect-ratio : 1 / 1;\"></div>\n",
    "\n",
    "  <script>\n",
    "    new Chart(\"jxgbox-maths-notation\", MATHS_EQUATIONS);\n",
    "  </script>\n",
    "  <br>\n",
    "</div>"
   ]
  },
  {
   "cell_type": "markdown",
   "id": "8ee9e861",
   "metadata": {},
   "source": [
    "## References \n",
    "\n",
    "[JSXGraph](https://jsxgraph.uni-bayreuth.de/wp/index.html) was used to create the graphs in this blog post. The examples that come with this library are excellent, this blog post heavily extended the sine and cosine example which can be found [here](https://jsxgraph.uni-bayreuth.de/wiki/index.php/Sine_and_cosine).\n",
    "\n",
    "Google has some great material on the topic of vector similarity measures [here](https://developers.google.com/machine-learning/clustering/similarity/measuring-similarity) and [here](https://cloud.google.com/spanner/docs/choose-vector-distance-function) - this blog post covers the core topics from this material. \n",
    "\n"
   ]
  }
 ],
 "metadata": {
  "kernelspec": {
   "display_name": "Python 3 (ipykernel)",
   "language": "python",
   "name": "python3"
  },
  "language_info": {
   "codemirror_mode": {
    "name": "ipython",
    "version": 3
   },
   "file_extension": ".py",
   "mimetype": "text/x-python",
   "name": "python",
   "nbconvert_exporter": "python",
   "pygments_lexer": "ipython3",
   "version": "3.9.6"
  }
 },
 "nbformat": 4,
 "nbformat_minor": 5
}
