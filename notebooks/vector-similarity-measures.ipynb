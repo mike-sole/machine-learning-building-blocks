{
 "cells": [
  {
   "cell_type": "markdown",
   "id": "b8a339dd-3aa0-4ad5-8df9-f06273db8087",
   "metadata": {},
   "source": [
    "# Vector Similarity Measures\n",
    "\n",
    "Vector similarity measures are a key Machine Learning building block. In this context, a vector encodes properties (features) of an entity, known as a **feature vector**. A previous blog post introduced the [weighted sum](https://mike-sole.github.io/machine-learning-building-blocks/2024/04/06/weighted-sum.html) which is often referred to as the Dot Product similarity measure.  \n",
    "\n",
    "In this blog post, we will cover three vector similarity measures:\n",
    "* Euclidean Distance\n",
    "* Dot Product\n",
    "* Cosine "
   ]
  },
  {
   "cell_type": "markdown",
   "id": "877c4afa-baa9-472a-bbb9-8d19d017175c",
   "metadata": {},
   "source": [
    "# Interpretation\n",
    "\n",
    "Geometric interpretations of the three vector similarity measures will be presented in this section. \n",
    "\n",
    "Given feature vector A and B ... \n",
    "\n",
    "<div id=\"html\" markdown=\"0\">\n",
    "\n",
    "  <div id=\"jxgbox\" class=\"jxgbox\" style=\"width: 100%; aspect-ratio : 1 / 1;\"></div>\n",
    "\n",
    "  <script>\n",
    "    {% include vector-similarity-measures/graph.js %}\n",
    "  </script>\n",
    "\n",
    "</div>"
   ]
  },
  {
   "cell_type": "markdown",
   "id": "fc0a3baf-dd74-4385-b1e7-4d8c0dd3ed91",
   "metadata": {},
   "source": [
    "## Code"
   ]
  },
  {
   "cell_type": "markdown",
   "id": "ab7e44ed-db33-404c-ae5f-8bede2254eb5",
   "metadata": {},
   "source": [
    "Without using a library:"
   ]
  },
  {
   "cell_type": "code",
   "execution_count": 3,
   "id": "93023a10-25f9-43f5-8db3-86662e149fb2",
   "metadata": {},
   "outputs": [],
   "source": [
    "# helper functions\n",
    "\n",
    "\n"
   ]
  },
  {
   "cell_type": "markdown",
   "id": "fe811bd8-2735-42a1-90a7-940959661aee",
   "metadata": {},
   "source": [
    "Using the NumPy library:"
   ]
  },
  {
   "cell_type": "code",
   "execution_count": null,
   "id": "b59278a7-8bd7-4730-9beb-73d471b35318",
   "metadata": {},
   "outputs": [],
   "source": []
  },
  {
   "cell_type": "markdown",
   "id": "5e441f89-bd49-4dbe-b9b8-c909c402ff5b",
   "metadata": {},
   "source": [
    "## Maths Notations"
   ]
  },
  {
   "cell_type": "markdown",
   "id": "20687eee-d645-43fc-bdce-4b985c0ef108",
   "metadata": {},
   "source": []
  }
 ],
 "metadata": {
  "kernelspec": {
   "display_name": "Python 3 (ipykernel)",
   "language": "python",
   "name": "python3"
  },
  "language_info": {
   "codemirror_mode": {
    "name": "ipython",
    "version": 3
   },
   "file_extension": ".py",
   "mimetype": "text/x-python",
   "name": "python",
   "nbconvert_exporter": "python",
   "pygments_lexer": "ipython3",
   "version": "3.9.6"
  }
 },
 "nbformat": 4,
 "nbformat_minor": 5
}
