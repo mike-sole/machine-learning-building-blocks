{
 "cells": [
  {
   "cell_type": "markdown",
   "id": "b8a339dd-3aa0-4ad5-8df9-f06273db8087",
   "metadata": {},
   "source": [
    "# Neural Networks: Perceptron (model)\n",
    "\n",
    "\n",
    "\n"
   ]
  },
  {
   "cell_type": "markdown",
   "id": "613641d3",
   "metadata": {},
   "source": [
    "The perceptron is a foundational learning algorithm and the elementary building block of neural networks. Grasping its function is crucial for understanding how modern deep learning models work, which achieve state-of-the-art performance in fields like natural language processing and computer vision.\n",
    "\n",
    "Key properties of the perceptron:\n",
    "* **Classifier**: It produces a categorical output, predicting a class label like 'spam' or 'not spam'.\n",
    "\n",
    "* **Linear**: The model's decision boundary is a straight line, which means it can only separate data that is linearly separable.\n",
    "\n",
    "* **Supervised**: It learns from a labeled dataset, where the correct output for each input is provided during training.\n",
    "\n",
    "* **Weighted Sum**: \n",
    "\n",
    "  * Calculates a weighted sum of inputs followed by a threshold function to predict an output label\n",
    "\n",
    "  * Learning involes learning the weights of the weighted sum \n",
    "\n",
    "  * A previous blog post introduced the [weighted sum](https://mike-sole.github.io/machine-learning-building-blocks/2024/04/06/weighted-sum.html)\n",
    "\n",
    "\n",
    "\n",
    "<div id=\"html\" markdown=\"0\">\n",
    "\n",
    "  <div id=\"perceptron-chart\" class=\"perceptron-chart\" style=\"width: 75%; aspect-ratio : 1 / 1;\"></div>\n",
    "\n",
    "  <script>\n",
    "\n",
    "    {% include nn-perceptron/perceptron.js %}\n",
    "\n",
    "    const perceptronChart = new PerceptronChart('perceptron-chart');\n",
    "        \n",
    "  </script>\n",
    "  <br>\n",
    "</div>\n",
    "\n",
    "<div id=\"html\" markdown=\"0\">\n",
    "\n",
    "  <div id=\"perceptron-decision-boundary\" class=\"perceptron-decision-boundary\" style=\"width: 100%; aspect-ratio : 1 / 1;\"></div>\n",
    "\n",
    "  <script>\n",
    "    {% include vector-similarity-measures/utils.js %}\n",
    "\n",
    "    {% include nn-perceptron/nn_decision_boundaries_chart.js %}\n",
    "\n",
    "    new Chart(\"perceptron-decision-boundary\");\n",
    "  </script>\n",
    "  <br>\n",
    "</div>\n"
   ]
  },
  {
   "cell_type": "markdown",
   "id": "daf67819",
   "metadata": {},
   "source": [
    "# Interpretation"
   ]
  },
  {
   "cell_type": "code",
   "execution_count": null,
   "id": "8a5868ad",
   "metadata": {
    "tags": [
     "hide"
    ]
   },
   "outputs": [],
   "source": []
  },
  {
   "cell_type": "markdown",
   "id": "fc0a3baf-dd74-4385-b1e7-4d8c0dd3ed91",
   "metadata": {},
   "source": [
    "## Code"
   ]
  },
  {
   "cell_type": "markdown",
   "id": "ab7e44ed-db33-404c-ae5f-8bede2254eb5",
   "metadata": {},
   "source": [
    "Without using a library:"
   ]
  },
  {
   "cell_type": "code",
   "execution_count": null,
   "id": "93023a10-25f9-43f5-8db3-86662e149fb2",
   "metadata": {},
   "outputs": [],
   "source": []
  },
  {
   "cell_type": "markdown",
   "id": "fe811bd8-2735-42a1-90a7-940959661aee",
   "metadata": {},
   "source": [
    "Using the NumPy and SciPy libraries:"
   ]
  },
  {
   "cell_type": "code",
   "execution_count": null,
   "id": "b59278a7-8bd7-4730-9beb-73d471b35318",
   "metadata": {},
   "outputs": [],
   "source": []
  },
  {
   "cell_type": "markdown",
   "id": "5e441f89-bd49-4dbe-b9b8-c909c402ff5b",
   "metadata": {},
   "source": [
    "## Maths Notations"
   ]
  },
  {
   "cell_type": "markdown",
   "id": "20687eee-d645-43fc-bdce-4b985c0ef108",
   "metadata": {},
   "source": []
  },
  {
   "cell_type": "markdown",
   "metadata": {},
   "source": []
  },
  {
   "cell_type": "markdown",
   "id": "8ee9e861",
   "metadata": {},
   "source": [
    "## References \n",
    "\n",
    "[JSXGraph](https://jsxgraph.uni-bayreuth.de/wp/index.html) was used to create the graphs in this blog post. The examples that come with this library are excellent, this blog post heavily extended the sine and cosine example which can be found [here](https://jsxgraph.uni-bayreuth.de/wiki/index.php/Sine_and_cosine).\n",
    "\n",
    "Google has some great material on the topic of vector similarity measures [here](https://developers.google.com/machine-learning/clustering/similarity/measuring-similarity) and [here](https://cloud.google.com/spanner/docs/choose-vector-distance-function) - this blog post covers the core topics from this material. \n",
    "\n"
   ]
  }
 ],
 "metadata": {
  "kernelspec": {
   "display_name": "Python 3 (ipykernel)",
   "language": "python",
   "name": "python3"
  },
  "language_info": {
   "codemirror_mode": {
    "name": "ipython",
    "version": 3
   },
   "file_extension": ".py",
   "mimetype": "text/x-python",
   "name": "python",
   "nbconvert_exporter": "python",
   "pygments_lexer": "ipython3",
   "version": "3.9.6"
  }
 },
 "nbformat": 4,
 "nbformat_minor": 5
}
