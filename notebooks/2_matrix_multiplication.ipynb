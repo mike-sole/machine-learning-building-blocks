{
 "cells": [
  {
   "cell_type": "markdown",
   "id": "b8a339dd-3aa0-4ad5-8df9-f06273db8087",
   "metadata": {},
   "source": [
    "# Matrix Multiplication\n",
    "\n",
    "Matrix multiplication builds upon the [weighted sum](https://mike-sole.github.io/machine-learning-building-blocks/2024/04/06/weighted-sum.html) operation which was explored in the [previous blog post](https://mike-sole.github.io/machine-learning-building-blocks/2024/04/06/weighted-sum.html).\n",
    "\n",
    "Matrix multiplication can be described as a collection of weighted sums. \n",
    "\n",
    "Here is a matrix multiplication between a vector $(1, 4, 10)$ and a matrix $\\begin{bmatrix}10 & 1 \\\\ 5 & 1 \\\\ 3 & 1\\end{bmatrix}$:\n",
    "\n",
    "$$\\begin{bmatrix}(1 * 10) + (4 * 5) + (10 * 3) & (1 * 1) + (4 * 1) + (10 * 1) \\end{bmatrix} = \\begin{bmatrix}60 & 18 \\end{bmatrix}$$ \n",
    "\n",
    "You can see two weighted sums have been calculated to achieve this matrix multiplication operation:\n",
    "1. Weighted sum between the vector and the first column of the matrix\n",
    "2. Weighted sum between the vector and the second column of the matrix\n",
    "\n",
    "Here is a matrix multiplication between a matrix $\\begin{bmatrix}1 & 4 & 10 \\\\ 5 &  1 & 3 \\end{bmatrix}$ and a matrix $\\begin{bmatrix}10 & 1 \\\\ 5 & 1 \\\\ 3 & 1\\end{bmatrix}$:\n",
    "\n",
    "$$\\begin{bmatrix}(1 * 10) + (4 * 5) + (10 * 3) & (1 * 1) + (4 * 1) + (10 * 1) \\\\ (5 * 10) + (1 * 5) + (3 * 3) & (5 * 1) + (1 * 1) + (3 * 1)\\end{bmatrix} = \\begin{bmatrix}60 & 18 \\\\ xxx & yyy \\end{bmatrix}$$ \n",
    "\n",
    "You can see four weighted sums have been calculated to achieve this matrix multiplication operation:\n",
    "1. **Weighted sum** between the **first row of the first matrix** and the **first column of the second matrix**\n",
    "2. **Weighted sum** between the **first row of the first matrix** and the **second column of the second matrix**\n",
    "3. **Weighted sum** between the **second row of the first matrix** and the **first column of the second matrix**\n",
    "5. **Weighted sum** between the **second row of the first matrix** and the **second column of the second matrix**\n",
    "\n"
   ]
  },
  {
   "cell_type": "markdown",
   "id": "877c4afa-baa9-472a-bbb9-8d19d017175c",
   "metadata": {},
   "source": [
    "\n",
    "\n",
    "# Interpretation\n",
    "\n"
   ]
  },
  {
   "cell_type": "markdown",
   "id": "fc0a3baf-dd74-4385-b1e7-4d8c0dd3ed91",
   "metadata": {},
   "source": [
    "## Code"
   ]
  },
  {
   "cell_type": "markdown",
   "id": "ab7e44ed-db33-404c-ae5f-8bede2254eb5",
   "metadata": {},
   "source": [
    "Weighted sum without using a library:"
   ]
  },
  {
   "cell_type": "code",
   "execution_count": 14,
   "id": "93023a10-25f9-43f5-8db3-86662e149fb2",
   "metadata": {},
   "outputs": [
    {
     "name": "stdout",
     "output_type": "stream",
     "text": [
      "Weighted sum is:  60\n"
     ]
    }
   ],
   "source": [
    "numbers = [10, 5, 3]\n",
    "weights = [1, 4, 10]\n",
    "\n",
    "weighted_sum = 0\n",
    "for index in range(len(numbers)):\n",
    "    weighted_sum += numbers[index] * weights[index]\n",
    "\n",
    "print('Weighted sum is: ', weighted_sum)"
   ]
  },
  {
   "cell_type": "markdown",
   "id": "fe811bd8-2735-42a1-90a7-940959661aee",
   "metadata": {},
   "source": [
    "Weighted sum using the NumPy library:"
   ]
  },
  {
   "cell_type": "code",
   "execution_count": 18,
   "id": "b59278a7-8bd7-4730-9beb-73d471b35318",
   "metadata": {},
   "outputs": [
    {
     "name": "stdout",
     "output_type": "stream",
     "text": [
      "[[10  5  3]\n",
      " [ 1  1  1]]\n",
      "[[ 1  2]\n",
      " [ 4  1]\n",
      " [10  1]]\n",
      "Weighted sum is:  [[60 28]\n",
      " [15  4]]\n"
     ]
    }
   ],
   "source": [
    "import numpy as np\n",
    "\n",
    "weights = np.array([[1, 2], \n",
    "                    [4, 1], \n",
    "                    [10, 1]])\n",
    "\n",
    "numbers = np.array([[10, 5, 3],\n",
    "                     [1, 1, 1]])\n",
    "\n",
    "print(numbers)\n",
    "print(weights)\n",
    "\n",
    "weighted_sum = np.matmul(numbers, weights)\n",
    "\n",
    "print('Weighted sum is: ', weighted_sum)"
   ]
  },
  {
   "cell_type": "markdown",
   "id": "5e441f89-bd49-4dbe-b9b8-c909c402ff5b",
   "metadata": {},
   "source": [
    "## Maths Notations"
   ]
  },
  {
   "cell_type": "markdown",
   "id": "20687eee-d645-43fc-bdce-4b985c0ef108",
   "metadata": {},
   "source": [
    "Linear algebra defines the weighted sum as the dot product operation. The following notation is used to represent the dot product between $a$ and $b$\n",
    "\n",
    "$$\n",
    "  a \\cdot b\n",
    "$$\n",
    "\n",
    "Here is an example of the dot product applied to the vectors $(10 + 5 + 3)$ and $(1, 4, 10)$:\n",
    "\n",
    "$$\n",
    "  (10 + 5 + 3) \\cdot (1, 4, 10) = 60\n",
    "$$\n",
    "\n",
    "A subsequent matrix multiplication post will cover the $a^\\mathsf{T}b$ dot production notation. "
   ]
  }
 ],
 "metadata": {
  "kernelspec": {
   "display_name": "Python 3 (ipykernel)",
   "language": "python",
   "name": "python3"
  },
  "language_info": {
   "codemirror_mode": {
    "name": "ipython",
    "version": 3
   },
   "file_extension": ".py",
   "mimetype": "text/x-python",
   "name": "python",
   "nbconvert_exporter": "python",
   "pygments_lexer": "ipython3",
   "version": "3.12.2"
  }
 },
 "nbformat": 4,
 "nbformat_minor": 5
}
