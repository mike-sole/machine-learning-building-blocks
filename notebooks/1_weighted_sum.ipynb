{
 "cells": [
  {
   "cell_type": "markdown",
   "id": "b8a339dd-3aa0-4ad5-8df9-f06273db8087",
   "metadata": {},
   "source": [
    "# Weighted Sum\n"
   ]
  },
  {
   "cell_type": "markdown",
   "id": "877c4afa-baa9-472a-bbb9-8d19d017175c",
   "metadata": {},
   "source": [
    "At the heart of machine learning, data science, signal processing and beyond lies the **weighted sum**.  \n",
    "\n",
    "Here is a normal sum: $10 + 5 + 3 = 18$\n",
    "\n",
    "Here is a weighted sum for $10 + 5 + 3$ given weights $(1, 4, 10)$:\n",
    "\n",
    "$$(10 * 1) + (5 * 4) + (3 * 10) = 10 + 20 + 30 = 60$$\n",
    "\n",
    "Before adding numbers together, each number is scaled with respect to its corresponding weight. As a result, weights control the overall contribution of each number."
   ]
  },
  {
   "cell_type": "markdown",
   "id": "fc0a3baf-dd74-4385-b1e7-4d8c0dd3ed91",
   "metadata": {},
   "source": [
    "## Code"
   ]
  },
  {
   "cell_type": "markdown",
   "id": "ab7e44ed-db33-404c-ae5f-8bede2254eb5",
   "metadata": {},
   "source": [
    "Without a library:"
   ]
  },
  {
   "cell_type": "code",
   "execution_count": 3,
   "id": "93023a10-25f9-43f5-8db3-86662e149fb2",
   "metadata": {},
   "outputs": [
    {
     "name": "stdout",
     "output_type": "stream",
     "text": [
      "Weighted sum is:  60\n"
     ]
    }
   ],
   "source": [
    "numbers = [10, 5, 3]\n",
    "weights = [1, 4, 10]\n",
    "\n",
    "weighted_sum = 0\n",
    "for index in range(len(numbers)):\n",
    "    weighted_sum += numbers[index] * weights[index]\n",
    "\n",
    "print('Weighted sum is: ', weighted_sum)"
   ]
  },
  {
   "cell_type": "markdown",
   "id": "fe811bd8-2735-42a1-90a7-940959661aee",
   "metadata": {},
   "source": [
    "With the NumPy library:"
   ]
  },
  {
   "cell_type": "code",
   "execution_count": 4,
   "id": "b59278a7-8bd7-4730-9beb-73d471b35318",
   "metadata": {},
   "outputs": [
    {
     "name": "stdout",
     "output_type": "stream",
     "text": [
      "Weighted sum is:  60\n"
     ]
    }
   ],
   "source": [
    "import numpy as np\n",
    "\n",
    "numbers = np.array([10, 5, 3])\n",
    "weights = np.array([1, 4, 10])\n",
    "\n",
    "weighted_sum = np.dot(numbers, weights)\n",
    "\n",
    "print('Weighted sum is: ', weighted_sum)"
   ]
  },
  {
   "cell_type": "markdown",
   "id": "5e441f89-bd49-4dbe-b9b8-c909c402ff5b",
   "metadata": {},
   "source": [
    "## Maths Notations"
   ]
  },
  {
   "cell_type": "markdown",
   "id": "20687eee-d645-43fc-bdce-4b985c0ef108",
   "metadata": {},
   "source": [
    "Linear algebra defines the weighted sum as the dot product operation. The following notation is used to represent the dot product between $a$ and $b$\n",
    "\n",
    "$$\n",
    "  a \\cdot b\n",
    "$$\n",
    "\n",
    "Here is an example of the dot product applied to the vectors $(10 + 5 + 3)$ and $(1, 4, 10)$:\n",
    "\n",
    "$$\n",
    "  (10 + 5 + 3) \\cdot (1, 4, 10) = 60\n",
    "$$"
   ]
  },
  {
   "cell_type": "markdown",
   "id": "99781133-d679-45ce-9502-0cefc61e5401",
   "metadata": {},
   "source": [
    "## Basic example application"
   ]
  }
 ],
 "metadata": {
  "kernelspec": {
   "display_name": "Python 3 (ipykernel)",
   "language": "python",
   "name": "python3"
  },
  "language_info": {
   "codemirror_mode": {
    "name": "ipython",
    "version": 3
   },
   "file_extension": ".py",
   "mimetype": "text/x-python",
   "name": "python",
   "nbconvert_exporter": "python",
   "pygments_lexer": "ipython3",
   "version": "3.12.2"
  }
 },
 "nbformat": 4,
 "nbformat_minor": 5
}
